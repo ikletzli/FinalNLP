{
 "cells": [
  {
   "cell_type": "code",
   "execution_count": 26,
   "metadata": {},
   "outputs": [],
   "source": [
    "import torchvision\n",
    "from torchvision.models import VisionTransformer\n",
    "import torch\n",
    "import torchvision.transforms as transforms\n",
    "from finalnlp.replacer import replace_linears_in_pytorch_model\n",
    "from finalnlp import bitnet158\n",
    "from finalnlp import utils\n",
    "import wandb"
   ]
  },
  {
   "cell_type": "code",
   "execution_count": 27,
   "metadata": {},
   "outputs": [],
   "source": [
    "image_size=32\n",
    "patch_size=4\n",
    "num_layers=4\n",
    "num_heads=2\n",
    "hidden_dim=20\n",
    "mlp_dim=20\n",
    "num_classes=10\n",
    "batch_size=8\n",
    "lr=0.001\n",
    "EPOCHS = 3\n",
    "model = VisionTransformer(image_size=image_size, patch_size=patch_size, num_layers=num_layers, \n",
    "                          num_heads=num_heads, hidden_dim=hidden_dim, mlp_dim=mlp_dim, num_classes=num_classes)"
   ]
  },
  {
   "cell_type": "code",
   "execution_count": 28,
   "metadata": {},
   "outputs": [
    {
     "name": "stderr",
     "output_type": "stream",
     "text": [
      "\u001b[34m\u001b[1mwandb\u001b[0m: \u001b[33mWARNING\u001b[0m Calling wandb.login() after wandb.init() has no effect.\n"
     ]
    },
    {
     "data": {
      "text/html": [
       "Finishing last run (ID:ij35ilt9) before initializing another..."
      ],
      "text/plain": [
       "<IPython.core.display.HTML object>"
      ]
     },
     "metadata": {},
     "output_type": "display_data"
    },
    {
     "data": {
      "application/vnd.jupyter.widget-view+json": {
       "model_id": "d3a7e1b45bbe4bfe8f783d3c9059c929",
       "version_major": 2,
       "version_minor": 0
      },
      "text/plain": [
       "VBox(children=(Label(value='0.001 MB of 0.001 MB uploaded\\r'), FloatProgress(value=1.0, max=1.0)))"
      ]
     },
     "metadata": {},
     "output_type": "display_data"
    },
    {
     "data": {
      "text/html": [
       "<style>\n",
       "    table.wandb td:nth-child(1) { padding: 0 10px; text-align: left ; width: auto;} td:nth-child(2) {text-align: left ; width: 100%}\n",
       "    .wandb-row { display: flex; flex-direction: row; flex-wrap: wrap; justify-content: flex-start; width: 100% }\n",
       "    .wandb-col { display: flex; flex-direction: column; flex-basis: 100%; flex: 1; padding: 10px; }\n",
       "    </style>\n",
       "<div class=\"wandb-row\"><div class=\"wandb-col\"><h3>Run history:</h3><br/><table class=\"wandb\"><tr><td>acc</td><td>▁▄▅▇▇█</td></tr><tr><td>val_loss</td><td>█▅▄▂▂▁</td></tr></table><br/></div><div class=\"wandb-col\"><h3>Run summary:</h3><br/><table class=\"wandb\"><tr><td>acc</td><td>0.3457</td></tr><tr><td>val_loss</td><td>1.78396</td></tr></table><br/></div></div>"
      ],
      "text/plain": [
       "<IPython.core.display.HTML object>"
      ]
     },
     "metadata": {},
     "output_type": "display_data"
    },
    {
     "data": {
      "text/html": [
       " View run <strong style=\"color:#cdcd00\">plain</strong> at: <a href='https://wandb.ai/nlp-quantization/CIFAR-10/runs/ij35ilt9/workspace' target=\"_blank\">https://wandb.ai/nlp-quantization/CIFAR-10/runs/ij35ilt9/workspace</a><br/>Synced 5 W&B file(s), 0 media file(s), 0 artifact file(s) and 0 other file(s)"
      ],
      "text/plain": [
       "<IPython.core.display.HTML object>"
      ]
     },
     "metadata": {},
     "output_type": "display_data"
    },
    {
     "data": {
      "text/html": [
       "Find logs at: <code>.\\wandb\\run-20240409_193929-ij35ilt9\\logs</code>"
      ],
      "text/plain": [
       "<IPython.core.display.HTML object>"
      ]
     },
     "metadata": {},
     "output_type": "display_data"
    },
    {
     "data": {
      "text/html": [
       "Successfully finished last run (ID:ij35ilt9). Initializing new run:<br/>"
      ],
      "text/plain": [
       "<IPython.core.display.HTML object>"
      ]
     },
     "metadata": {},
     "output_type": "display_data"
    },
    {
     "data": {
      "application/vnd.jupyter.widget-view+json": {
       "model_id": "8c5ae4df59a04b49b0332d4fcf6a9dbd",
       "version_major": 2,
       "version_minor": 0
      },
      "text/plain": [
       "VBox(children=(Label(value='Waiting for wandb.init()...\\r'), FloatProgress(value=0.011111111111111112, max=1.0…"
      ]
     },
     "metadata": {},
     "output_type": "display_data"
    },
    {
     "data": {
      "text/html": [
       "wandb version 0.16.6 is available!  To upgrade, please run:\n",
       " $ pip install wandb --upgrade"
      ],
      "text/plain": [
       "<IPython.core.display.HTML object>"
      ]
     },
     "metadata": {},
     "output_type": "display_data"
    },
    {
     "data": {
      "text/html": [
       "Tracking run with wandb version 0.16.5"
      ],
      "text/plain": [
       "<IPython.core.display.HTML object>"
      ]
     },
     "metadata": {},
     "output_type": "display_data"
    },
    {
     "data": {
      "text/html": [
       "Run data is saved locally in <code>c:\\Users\\isaac\\OneDrive\\Desktop\\Spring2024\\CS6340\\FinalNLP\\src\\finalnlp\\vision_transformers\\CIFAR\\wandb\\run-20240409_194352-8mc4ojdc</code>"
      ],
      "text/plain": [
       "<IPython.core.display.HTML object>"
      ]
     },
     "metadata": {},
     "output_type": "display_data"
    },
    {
     "data": {
      "text/html": [
       "Syncing run <strong><a href='https://wandb.ai/nlp-quantization/CIFAR-10/runs/8mc4ojdc/workspace' target=\"_blank\">plain</a></strong> to <a href='https://wandb.ai/nlp-quantization/CIFAR-10' target=\"_blank\">Weights & Biases</a> (<a href='https://wandb.me/run' target=\"_blank\">docs</a>)<br/>"
      ],
      "text/plain": [
       "<IPython.core.display.HTML object>"
      ]
     },
     "metadata": {},
     "output_type": "display_data"
    },
    {
     "data": {
      "text/html": [
       " View project at <a href='https://wandb.ai/nlp-quantization/CIFAR-10' target=\"_blank\">https://wandb.ai/nlp-quantization/CIFAR-10</a>"
      ],
      "text/plain": [
       "<IPython.core.display.HTML object>"
      ]
     },
     "metadata": {},
     "output_type": "display_data"
    },
    {
     "data": {
      "text/html": [
       " View run at <a href='https://wandb.ai/nlp-quantization/CIFAR-10/runs/8mc4ojdc/workspace' target=\"_blank\">https://wandb.ai/nlp-quantization/CIFAR-10/runs/8mc4ojdc/workspace</a>"
      ],
      "text/plain": [
       "<IPython.core.display.HTML object>"
      ]
     },
     "metadata": {},
     "output_type": "display_data"
    },
    {
     "data": {
      "text/html": [
       "<button onClick=\"this.nextSibling.style.display='block';this.style.display='none';\">Display W&B run</button><iframe src='https://wandb.ai/nlp-quantization/CIFAR-10/runs/8mc4ojdc?jupyter=true' style='border:none;width:100%;height:420px;display:none;'></iframe>"
      ],
      "text/plain": [
       "<wandb.sdk.wandb_run.Run at 0x2ba32cb6bd0>"
      ]
     },
     "execution_count": 28,
     "metadata": {},
     "output_type": "execute_result"
    }
   ],
   "source": [
    "wandb.login()\n",
    "\n",
    "wandb.init(\n",
    "    # Set the project where this run will be logged\n",
    "    project=\"CIFAR-10\",\n",
    "    # We pass a run name (otherwise it’ll be randomly assigned, like sunshine-lollypop-10)\n",
    "    name=f\"plain\",\n",
    "    # Track hyperparameters and run metadata\n",
    "    config={\n",
    "    \"image_size\": image_size,\n",
    "    \"patch_size\": patch_size,\n",
    "    \"num_layers\": num_layers,\n",
    "    \"num_heads\": num_heads,\n",
    "    \"hidden_dim\": hidden_dim,\n",
    "    \"mlp_dim\": mlp_dim,\n",
    "    \"num_classes\": num_classes,\n",
    "    \"batch_size\": batch_size,\n",
    "    \"lr\": lr,\n",
    "    \"EPOCHS\": EPOCHS,\n",
    "    \"byte_count\": utils.count_bytes(model, bitnet158.BitLinear158B),\n",
    "    \"dataset\": \"CIFAR\",\n",
    "    })"
   ]
  },
  {
   "cell_type": "code",
   "execution_count": 29,
   "metadata": {},
   "outputs": [
    {
     "name": "stdout",
     "output_type": "stream",
     "text": [
      "Files already downloaded and verified\n",
      "Files already downloaded and verified\n",
      "Training set has 50000 instances\n",
      "Validation set has 10000 instances\n"
     ]
    }
   ],
   "source": [
    "transform = transforms.Compose(\n",
    "    [torchvision.transforms.Grayscale(num_output_channels=3),\n",
    "     transforms.ToTensor(),\n",
    "    transforms.Normalize((0.5,), (0.5,))])\n",
    "\n",
    "# Create datasets for training & validation, download if necessary\n",
    "training_set = torchvision.datasets.CIFAR10('./data', train=True, transform=transform, download=True)\n",
    "validation_set = torchvision.datasets.CIFAR10('./data', train=False, transform=transform, download=True)\n",
    "\n",
    "# Create data loaders for our datasets; shuffle for training, not for validation\n",
    "training_loader = torch.utils.data.DataLoader(training_set, batch_size=batch_size, shuffle=True)\n",
    "validation_loader = torch.utils.data.DataLoader(validation_set, batch_size=batch_size, shuffle=False)\n",
    "\n",
    "print('Training set has {} instances'.format(len(training_set)))\n",
    "print('Validation set has {} instances'.format(len(validation_set)))"
   ]
  },
  {
   "cell_type": "code",
   "execution_count": 30,
   "metadata": {},
   "outputs": [],
   "source": [
    "# Optimizers specified in the torch.optim package\n",
    "optimizer = torch.optim.Adam(model.parameters(), lr=lr)\n",
    "loss_fn = torch.nn.CrossEntropyLoss()"
   ]
  },
  {
   "cell_type": "code",
   "execution_count": 31,
   "metadata": {},
   "outputs": [],
   "source": [
    "def get_accuracy_and_val_loss(model):\n",
    "    running_vloss = 0.0\n",
    "    model.eval()\n",
    "    accuracy = 0.0\n",
    "    # Disable gradient computation and reduce memory consumption.\n",
    "    with torch.no_grad():\n",
    "        total = 0\n",
    "        num_correct = 0\n",
    "        for i, vdata in enumerate(validation_loader):\n",
    "            vinputs, vlabels = vdata\n",
    "            voutputs = model(vinputs)\n",
    "            pred = torch.argmax(voutputs, dim=1)\n",
    "            num_equal = torch.sum(vlabels == pred)\n",
    "            num_correct += num_equal.item()\n",
    "            total += batch_size\n",
    "            vloss = loss_fn(voutputs, vlabels)\n",
    "            running_vloss += vloss\n",
    "            \n",
    "        accuracy = num_correct / total\n",
    "    avg_vloss = running_vloss / (i + 1)\n",
    "    wandb.log({\"acc\": accuracy, \"val_loss\": avg_vloss})\n",
    "    \n",
    "    return avg_vloss, accuracy"
   ]
  },
  {
   "cell_type": "code",
   "execution_count": 32,
   "metadata": {},
   "outputs": [],
   "source": [
    "def train_one_epoch(epoch_index):\n",
    "    running_loss = 0.\n",
    "    last_loss = 0.\n",
    "\n",
    "    for i, data in enumerate(training_loader):\n",
    "        model.train(True)\n",
    "        \n",
    "        inputs, labels = data\n",
    "\n",
    "        optimizer.zero_grad()\n",
    "\n",
    "        outputs = model(inputs)\n",
    "\n",
    "        loss = loss_fn(outputs, labels)\n",
    "        loss.backward()\n",
    "        optimizer.step()\n",
    "\n",
    "        # Gather data and report\n",
    "        running_loss += loss.item()\n",
    "        if i % 1000 == 999:\n",
    "            last_loss = running_loss / 1000 # loss per batch\n",
    "            #print('  batch {} loss: {}'.format(i + 1, last_loss))\n",
    "            running_loss = 0.\n",
    "            avg_vloss, accuracy = get_accuracy_and_val_loss(model)\n",
    "            print('  Batch: {} Validation Loss: {} Accuracy: {}'.format(i + 1, avg_vloss, accuracy))\n",
    "            \n",
    "\n",
    "    return last_loss"
   ]
  },
  {
   "cell_type": "code",
   "execution_count": 33,
   "metadata": {},
   "outputs": [
    {
     "name": "stdout",
     "output_type": "stream",
     "text": [
      "EPOCH 1:\n",
      "  Batch: 1000 Validation Loss: 2.018859624862671 Accuracy: 0.2496\n",
      "  Batch: 2000 Validation Loss: 1.9930331707000732 Accuracy: 0.2396\n",
      "  Batch: 3000 Validation Loss: 1.801468014717102 Accuracy: 0.3372\n",
      "  Batch: 4000 Validation Loss: 1.8096880912780762 Accuracy: 0.3227\n",
      "  Batch: 5000 Validation Loss: 1.7822550535202026 Accuracy: 0.35\n",
      "  Batch: 6000 Validation Loss: 1.7286046743392944 Accuracy: 0.3705\n",
      "EPOCH 2:\n",
      "  Batch: 1000 Validation Loss: 1.7034220695495605 Accuracy: 0.3769\n",
      "  Batch: 2000 Validation Loss: 1.6682103872299194 Accuracy: 0.3879\n",
      "  Batch: 3000 Validation Loss: 1.6526589393615723 Accuracy: 0.4054\n",
      "  Batch: 4000 Validation Loss: 1.6166620254516602 Accuracy: 0.4087\n",
      "  Batch: 5000 Validation Loss: 1.6342134475708008 Accuracy: 0.4101\n",
      "  Batch: 6000 Validation Loss: 1.6033977270126343 Accuracy: 0.4197\n",
      "EPOCH 3:\n",
      "  Batch: 1000 Validation Loss: 1.5589041709899902 Accuracy: 0.4334\n",
      "  Batch: 2000 Validation Loss: 1.566047191619873 Accuracy: 0.4341\n",
      "  Batch: 3000 Validation Loss: 1.5415236949920654 Accuracy: 0.4451\n",
      "  Batch: 4000 Validation Loss: 1.6096131801605225 Accuracy: 0.4283\n",
      "  Batch: 5000 Validation Loss: 1.54893159866333 Accuracy: 0.4395\n",
      "  Batch: 6000 Validation Loss: 1.5282975435256958 Accuracy: 0.4436\n"
     ]
    }
   ],
   "source": [
    "# Initializing in a separate cell so we can easily add more epochs to the same run\n",
    "epoch_number = 0\n",
    "\n",
    "best_vloss = 1_000_000.\n",
    "\n",
    "for epoch in range(EPOCHS):\n",
    "    print('EPOCH {}:'.format(epoch_number + 1))\n",
    "\n",
    "    # Make sure gradient tracking is on, and do a pass over the data\n",
    "    model.train(True)\n",
    "    avg_loss = train_one_epoch(epoch_number)\n",
    "\n",
    "    epoch_number += 1"
   ]
  }
 ],
 "metadata": {
  "kernelspec": {
   "display_name": ".venv",
   "language": "python",
   "name": "python3"
  },
  "language_info": {
   "codemirror_mode": {
    "name": "ipython",
    "version": 3
   },
   "file_extension": ".py",
   "mimetype": "text/x-python",
   "name": "python",
   "nbconvert_exporter": "python",
   "pygments_lexer": "ipython3",
   "version": "3.12.2"
  }
 },
 "nbformat": 4,
 "nbformat_minor": 2
}
