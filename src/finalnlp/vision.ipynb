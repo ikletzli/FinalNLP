{
 "cells": [
  {
   "cell_type": "code",
   "execution_count": 1,
   "metadata": {},
   "outputs": [],
   "source": [
    "# class VisionTransformer(nn.Module):\n",
    "#     \"\"\"Vision Transformer as per https://arxiv.org/abs/2010.11929.\"\"\"\n",
    "\n",
    "#     def __init__(\n",
    "#         self,\n",
    "#         image_size: int,\n",
    "#         patch_size: int,\n",
    "#         num_layers: int,\n",
    "#         num_heads: int,\n",
    "#         hidden_dim: int,\n",
    "#         mlp_dim: int,\n",
    "#         dropout: float = 0.0,\n",
    "#         attention_dropout: float = 0.0,\n",
    "#         num_classes: int = 1000,\n",
    "#         representation_size: Optional[int] = None,\n",
    "#         norm_layer: Callable[..., torch.nn.Module] = partial(nn.LayerNorm, eps=1e-6),\n",
    "#         conv_stem_configs: Optional[List[ConvStemConfig]] = None,\n",
    "#     ):\n",
    "import torchvision\n",
    "from torchvision.models import VisionTransformer\n",
    "import torch\n",
    "import torchvision.transforms as transforms\n",
    "from replacer import replace_linears_in_pytorch_model\n",
    "from bitnet158 import BitLinear158B\n",
    "import math"
   ]
  },
  {
   "cell_type": "code",
   "execution_count": 2,
   "metadata": {},
   "outputs": [
    {
     "name": "stdout",
     "output_type": "stream",
     "text": [
      "Training set has 60000 instances\n",
      "Validation set has 10000 instances\n"
     ]
    }
   ],
   "source": [
    "transform = transforms.Compose(\n",
    "    [torchvision.transforms.Grayscale(num_output_channels=3),\n",
    "     transforms.ToTensor(),\n",
    "    transforms.Normalize((0.5,), (0.5,))])\n",
    "\n",
    "# Create datasets for training & validation, download if necessary\n",
    "training_set = torchvision.datasets.MNIST('./data', train=True, transform=transform, download=True)\n",
    "validation_set = torchvision.datasets.MNIST('./data', train=False, transform=transform, download=True)\n",
    "\n",
    "# Create data loaders for our datasets; shuffle for training, not for validation\n",
    "training_loader = torch.utils.data.DataLoader(training_set, batch_size=4, shuffle=True)\n",
    "validation_loader = torch.utils.data.DataLoader(validation_set, batch_size=4, shuffle=False)\n",
    "\n",
    "print('Training set has {} instances'.format(len(training_set)))\n",
    "print('Validation set has {} instances'.format(len(validation_set)))"
   ]
  },
  {
   "cell_type": "code",
   "execution_count": 3,
   "metadata": {},
   "outputs": [
    {
     "name": "stdout",
     "output_type": "stream",
     "text": [
      "(32, 122)\n"
     ]
    },
    {
     "data": {
      "image/png": "[encoded data removed]",
      "text/plain": [
       "<Figure size 640x480 with 1 Axes>"
      ]
     },
     "metadata": {},
     "output_type": "display_data"
    }
   ],
   "source": [
    "import matplotlib.pyplot as plt\n",
    "import numpy as np\n",
    "from datetime import datetime\n",
    "\n",
    "# Helper function for inline image display\n",
    "def matplotlib_imshow(img, one_channel=False):\n",
    "    if one_channel:\n",
    "        img = img.mean(dim=0)\n",
    "    img = img / 2 + 0.5     # unnormalize\n",
    "    npimg = img.numpy()\n",
    "    print(npimg.shape)\n",
    "    if one_channel:\n",
    "        plt.imshow(npimg, cmap=\"Greys\")\n",
    "    else:\n",
    "        plt.imshow(np.transpose(npimg, (1, 2, 0)))\n",
    "\n",
    "dataiter = iter(training_loader)\n",
    "images, labels = next(dataiter)\n",
    "\n",
    "# Create a grid from the images and show them\n",
    "img_grid = torchvision.utils.make_grid(images)\n",
    "matplotlib_imshow(img_grid, one_channel=True)"
   ]
  },
  {
   "cell_type": "code",
   "execution_count": 7,
   "metadata": {},
   "outputs": [],
   "source": [
    "#model = VisionTransformer(image_size=28, patch_size=4, num_layers=8, num_heads=2, hidden_dim=1024, mlp_dim=2048, num_classes=10)\n",
    "model = VisionTransformer(image_size=28, patch_size=4, num_layers=4, num_heads=2, hidden_dim=20, mlp_dim=20, num_classes=10)"
   ]
  },
  {
   "cell_type": "code",
   "execution_count": 5,
   "metadata": {},
   "outputs": [
    {
     "name": "stdout",
     "output_type": "stream",
     "text": [
      "tensor([[0.0855, 0.0572, 0.8516, 0.8469, 0.8856, 0.2716, 0.1229, 0.1822, 0.8401,\n",
      "         0.1057],\n",
      "        [0.7339, 0.8309, 0.6936, 0.8730, 0.1006, 0.2502, 0.3082, 0.8046, 0.9776,\n",
      "         0.3407],\n",
      "        [0.7330, 0.2695, 0.5288, 0.0896, 0.8581, 0.1871, 0.8165, 0.2474, 0.5771,\n",
      "         0.3944],\n",
      "        [0.6164, 0.9046, 0.3616, 0.3308, 0.5370, 0.0726, 0.9725, 0.4090, 0.9741,\n",
      "         0.5671]])\n",
      "tensor([1, 5, 3, 7])\n",
      "Total loss for this batch: 2.6614456176757812\n"
     ]
    }
   ],
   "source": [
    "loss_fn = torch.nn.CrossEntropyLoss()\n",
    "\n",
    "# NB: Loss functions expect data in batches, so we're creating batches of 4\n",
    "# Represents the model's confidence in each of the 10 classes for a given input\n",
    "dummy_outputs = torch.rand(4, 10)\n",
    "# Represents the correct class among the 10 being tested\n",
    "dummy_labels = torch.tensor([1, 5, 3, 7])\n",
    "\n",
    "print(dummy_outputs)\n",
    "print(dummy_labels)\n",
    "\n",
    "loss = loss_fn(dummy_outputs, dummy_labels)\n",
    "print('Total loss for this batch: {}'.format(loss.item()))"
   ]
  },
  {
   "cell_type": "code",
   "execution_count": 6,
   "metadata": {},
   "outputs": [],
   "source": [
    "# Optimizers specified in the torch.optim package\n",
    "optimizer = torch.optim.SGD(model.parameters(), lr=0.001, momentum=0.9)"
   ]
  },
  {
   "cell_type": "code",
   "execution_count": 7,
   "metadata": {},
   "outputs": [],
   "source": [
    "def train_one_epoch(epoch_index):\n",
    "    running_loss = 0.\n",
    "    last_loss = 0.\n",
    "\n",
    "    # Here, we use enumerate(training_loader) instead of\n",
    "    # iter(training_loader) so that we can track the batch\n",
    "    # index and do some intra-epoch reporting\n",
    "    for i, data in enumerate(training_loader):\n",
    "        # Every data instance is an input + label pair\n",
    "        inputs, labels = data\n",
    "\n",
    "        # Zero your gradients for every batch!\n",
    "        optimizer.zero_grad()\n",
    "\n",
    "        # Make predictions for this batch\n",
    "        outputs = model(inputs)\n",
    "\n",
    "        # Compute the loss and its gradients\n",
    "        loss = loss_fn(outputs, labels)\n",
    "        loss.backward()\n",
    "\n",
    "        # Adjust learning weights\n",
    "        optimizer.step()\n",
    "\n",
    "        # Gather data and report\n",
    "        running_loss += loss.item()\n",
    "        if i % 1000 == 999:\n",
    "            last_loss = running_loss / 1000 # loss per batch\n",
    "            print('  batch {} loss: {}'.format(i + 1, last_loss))\n",
    "            tb_x = epoch_index * len(training_loader) + i + 1\n",
    "            #add wandb\n",
    "            #tb_writer.add_scalar('Loss/train', last_loss, tb_x)\n",
    "            running_loss = 0.\n",
    "\n",
    "    return last_loss"
   ]
  },
  {
   "cell_type": "code",
   "execution_count": 8,
   "metadata": {},
   "outputs": [
    {
     "name": "stdout",
     "output_type": "stream",
     "text": [
      "EPOCH 1:\n",
      "  batch 1000 loss: 2.056946685731411\n",
      "  batch 2000 loss: 1.7297265878021717\n",
      "  batch 3000 loss: 1.6282375343441964\n",
      "  batch 4000 loss: 1.5318664744496346\n",
      "  batch 5000 loss: 1.3643767423927784\n",
      "  batch 6000 loss: 1.1666741925179958\n",
      "  batch 7000 loss: 1.0139263101741671\n",
      "  batch 8000 loss: 0.9546235912069678\n",
      "  batch 9000 loss: 0.8750821129754186\n",
      "  batch 10000 loss: 0.789939449608326\n",
      "  batch 11000 loss: 0.7291913877855987\n",
      "  batch 12000 loss: 0.6726334815919399\n",
      "  batch 13000 loss: 0.6295736635399517\n",
      "  batch 14000 loss: 0.6059867246374487\n",
      "  batch 15000 loss: 0.572288870062679\n",
      "LOSS train 0.572288870062679 valid 0.49554046988487244\n"
     ]
    }
   ],
   "source": [
    "# Initializing in a separate cell so we can easily add more epochs to the same run\n",
    "timestamp = datetime.now().strftime('%Y%m%d_%H%M%S')\n",
    "epoch_number = 0\n",
    "\n",
    "EPOCHS = 1\n",
    "\n",
    "best_vloss = 1_000_000.\n",
    "\n",
    "for epoch in range(EPOCHS):\n",
    "    print('EPOCH {}:'.format(epoch_number + 1))\n",
    "\n",
    "    # Make sure gradient tracking is on, and do a pass over the data\n",
    "    model.train(True)\n",
    "    avg_loss = train_one_epoch(epoch_number)\n",
    "\n",
    "\n",
    "    running_vloss = 0.0\n",
    "    # Set the model to evaluation mode, disabling dropout and using population\n",
    "    # statistics for batch normalization.\n",
    "    model.eval()\n",
    "\n",
    "    # Disable gradient computation and reduce memory consumption.\n",
    "    with torch.no_grad():\n",
    "        for i, vdata in enumerate(validation_loader):\n",
    "            vinputs, vlabels = vdata\n",
    "            voutputs = model(vinputs)\n",
    "            vloss = loss_fn(voutputs, vlabels)\n",
    "            running_vloss += vloss\n",
    "\n",
    "    avg_vloss = running_vloss / (i + 1)\n",
    "    print('LOSS train {} valid {}'.format(avg_loss, avg_vloss))\n",
    "\n",
    "    # # Log the running loss averaged per batch\n",
    "    # # for both training and validation\n",
    "    # writer.add_scalars('Training vs. Validation Loss',\n",
    "    #                 { 'Training' : avg_loss, 'Validation' : avg_vloss },\n",
    "    #                 epoch_number + 1)\n",
    "    # writer.flush()\n",
    "\n",
    "    # Track best performance, and save the model's state\n",
    "    if avg_vloss < best_vloss:\n",
    "        best_vloss = avg_vloss\n",
    "        model_path = 'model_{}_{}'.format(timestamp, epoch_number)\n",
    "        torch.save(model.state_dict(), model_path)\n",
    "\n",
    "    epoch_number += 1"
   ]
  },
  {
   "cell_type": "code",
   "execution_count": 10,
   "metadata": {},
   "outputs": [
    {
     "name": "stdout",
     "output_type": "stream",
     "text": [
      "0.8407\n"
     ]
    }
   ],
   "source": [
    "model.eval()\n",
    "with torch.no_grad():\n",
    "    total = 0\n",
    "    num_correct = 0\n",
    "    for i, vdata in enumerate(validation_loader):\n",
    "        vinputs, vlabels = vdata\n",
    "        voutputs = model(vinputs)\n",
    "        pred = torch.argmax(voutputs, dim=1)\n",
    "        num_equal = torch.sum(vlabels == pred)\n",
    "        num_correct += num_equal.item()\n",
    "        total += 4\n",
    "    \n",
    "    print(num_correct / total)"
   ]
  },
  {
   "cell_type": "code",
   "execution_count": 3,
   "metadata": {},
   "outputs": [],
   "source": [
    "def count_parameters(model):\n",
    "    total_params = 0\n",
    "    for name, parameter in model.named_parameters():\n",
    "        if parameter.requires_grad:\n",
    "            params = parameter.numel()\n",
    "            total_params += params\n",
    "    return total_params"
   ]
  },
  {
   "cell_type": "code",
   "execution_count": 4,
   "metadata": {},
   "outputs": [],
   "source": [
    "def count_bit_linear_layer_params(model, BitLinear):\n",
    "    total_params = 0\n",
    "    for name, module in model.named_children():\n",
    "        if isinstance(module, BitLinear):\n",
    "            total_params += count_parameters(module)\n",
    "        else:\n",
    "            # Recursively apply to child modules\n",
    "            total_params += count_bit_linear_layer_params(module, BitLinear)\n",
    "    \n",
    "    return total_params"
   ]
  },
  {
   "cell_type": "code",
   "execution_count": 5,
   "metadata": {},
   "outputs": [],
   "source": [
    "def count_bytes(model, BitLinear):\n",
    "    all_params = count_parameters(model)\n",
    "    bit_linear_params = count_bit_linear_layer_params(model, BitLinear)\n",
    "    non_bit_params = all_params - bit_linear_params\n",
    "    bits = bit_linear_params * 2 + non_bit_params * 32\n",
    "    return math.ceil(bits / 8)"
   ]
  },
  {
   "cell_type": "code",
   "execution_count": 8,
   "metadata": {},
   "outputs": [
    {
     "name": "stdout",
     "output_type": "stream",
     "text": [
      "269254696\n",
      "\n",
      "\n",
      "\n",
      "\n",
      "\n",
      "\n",
      "111806979\n"
     ]
    }
   ],
   "source": [
    "print(count_bytes(model, BitLinear158B))\n",
    "replace_linears_in_pytorch_model(model, BitLinear158B)\n",
    "print(\"\\n\\n\\n\\n\\n\")\n",
    "print(count_bytes(model, BitLinear158B))\n",
    "\n",
    "m = BitLinear158B(20, 30)\n",
    "\n",
    "input = torch.randn(128, 20)\n",
    "output = m(input)\n"
   ]
  }
 ],
 "metadata": {
  "kernelspec": {
   "display_name": ".venv",
   "language": "python",
   "name": "python3"
  },
  "language_info": {
   "codemirror_mode": {
    "name": "ipython",
    "version": 3
   },
   "file_extension": ".py",
   "mimetype": "text/x-python",
   "name": "python",
   "nbconvert_exporter": "python",
   "pygments_lexer": "ipython3",
   "version": "3.12.2"
  }
 },
 "nbformat": 4,
 "nbformat_minor": 2
}
