{
 "cells": [
  {
   "cell_type": "code",
   "execution_count": 1,
   "metadata": {},
   "outputs": [],
   "source": [
    "import torchvision\n",
    "from torchvision.models import VisionTransformer\n",
    "import torch\n",
    "import torchvision.transforms as transforms\n",
    "from finalnlp.replacer import replace_linears_in_pytorch_model\n",
    "from finalnlp import bitnet158\n",
    "from finalnlp import utils\n",
    "import wandb"
   ]
  },
  {
   "cell_type": "code",
   "execution_count": 2,
   "metadata": {},
   "outputs": [],
   "source": [
    "image_size=28\n",
    "patch_size=4\n",
    "num_layers=4\n",
    "num_heads=2\n",
    "hidden_dim=20\n",
    "mlp_dim=20\n",
    "num_classes=10\n",
    "batch_size=4\n",
    "lr=0.001\n",
    "EPOCHS = 1\n",
    "model = VisionTransformer(image_size=image_size, patch_size=patch_size, num_layers=num_layers, \n",
    "                          num_heads=num_heads, hidden_dim=hidden_dim, mlp_dim=mlp_dim, num_classes=num_classes)"
   ]
  },
  {
   "cell_type": "code",
   "execution_count": 3,
   "metadata": {},
   "outputs": [
    {
     "name": "stderr",
     "output_type": "stream",
     "text": [
      "Failed to detect the name of this notebook, you can set it manually with the WANDB_NOTEBOOK_NAME environment variable to enable code saving.\n",
      "\u001b[34m\u001b[1mwandb\u001b[0m: Currently logged in as: \u001b[33misaackletzli\u001b[0m (\u001b[33mnlp-quantization\u001b[0m). Use \u001b[1m`wandb login --relogin`\u001b[0m to force relogin\n"
     ]
    },
    {
     "data": {
      "text/html": [
       "wandb version 0.16.6 is available!  To upgrade, please run:\n",
       " $ pip install wandb --upgrade"
      ],
      "text/plain": [
       "<IPython.core.display.HTML object>"
      ]
     },
     "metadata": {},
     "output_type": "display_data"
    },
    {
     "data": {
      "text/html": [
       "Tracking run with wandb version 0.16.5"
      ],
      "text/plain": [
       "<IPython.core.display.HTML object>"
      ]
     },
     "metadata": {},
     "output_type": "display_data"
    },
    {
     "data": {
      "text/html": [
       "Run data is saved locally in <code>c:\\Users\\isaac\\OneDrive\\Desktop\\Spring2024\\CS6340\\FinalNLP\\src\\finalnlp\\vision_transformers\\wandb\\run-20240409_185714-5bv2dj88</code>"
      ],
      "text/plain": [
       "<IPython.core.display.HTML object>"
      ]
     },
     "metadata": {},
     "output_type": "display_data"
    },
    {
     "data": {
      "text/html": [
       "Syncing run <strong><a href='https://wandb.ai/nlp-quantization/vision-transformer/runs/5bv2dj88/workspace' target=\"_blank\">plain</a></strong> to <a href='https://wandb.ai/nlp-quantization/vision-transformer' target=\"_blank\">Weights & Biases</a> (<a href='https://wandb.me/run' target=\"_blank\">docs</a>)<br/>"
      ],
      "text/plain": [
       "<IPython.core.display.HTML object>"
      ]
     },
     "metadata": {},
     "output_type": "display_data"
    },
    {
     "data": {
      "text/html": [
       " View project at <a href='https://wandb.ai/nlp-quantization/vision-transformer' target=\"_blank\">https://wandb.ai/nlp-quantization/vision-transformer</a>"
      ],
      "text/plain": [
       "<IPython.core.display.HTML object>"
      ]
     },
     "metadata": {},
     "output_type": "display_data"
    },
    {
     "data": {
      "text/html": [
       " View run at <a href='https://wandb.ai/nlp-quantization/vision-transformer/runs/5bv2dj88/workspace' target=\"_blank\">https://wandb.ai/nlp-quantization/vision-transformer/runs/5bv2dj88/workspace</a>"
      ],
      "text/plain": [
       "<IPython.core.display.HTML object>"
      ]
     },
     "metadata": {},
     "output_type": "display_data"
    },
    {
     "data": {
      "text/html": [
       "<button onClick=\"this.nextSibling.style.display='block';this.style.display='none';\">Display W&B run</button><iframe src='https://wandb.ai/nlp-quantization/vision-transformer/runs/5bv2dj88?jupyter=true' style='border:none;width:100%;height:420px;display:none;'></iframe>"
      ],
      "text/plain": [
       "<wandb.sdk.wandb_run.Run at 0x1d87096a780>"
      ]
     },
     "execution_count": 3,
     "metadata": {},
     "output_type": "execute_result"
    }
   ],
   "source": [
    "wandb.login()\n",
    "\n",
    "wandb.init(\n",
    "    # Set the project where this run will be logged\n",
    "    project=\"vision-transformer\",\n",
    "    # We pass a run name (otherwise it’ll be randomly assigned, like sunshine-lollypop-10)\n",
    "    name=f\"plain\",\n",
    "    # Track hyperparameters and run metadata\n",
    "    config={\n",
    "    \"image_size\": image_size,\n",
    "    \"patch_size\": patch_size,\n",
    "    \"num_layers\": num_layers,\n",
    "    \"num_heads\": num_heads,\n",
    "    \"hidden_dim\": hidden_dim,\n",
    "    \"mlp_dim\": mlp_dim,\n",
    "    \"num_classes\": num_classes,\n",
    "    \"batch_size\": batch_size,\n",
    "    \"lr\": lr,\n",
    "    \"EPOCHS\": EPOCHS,\n",
    "    \"byte_count\": utils.count_bytes(model, bitnet158.BitLinear158B),\n",
    "    \"dataset\": \"MNIST\",\n",
    "    })"
   ]
  },
  {
   "cell_type": "code",
   "execution_count": 4,
   "metadata": {},
   "outputs": [
    {
     "name": "stdout",
     "output_type": "stream",
     "text": [
      "Training set has 60000 instances\n",
      "Validation set has 10000 instances\n"
     ]
    }
   ],
   "source": [
    "transform = transforms.Compose(\n",
    "    [torchvision.transforms.Grayscale(num_output_channels=3),\n",
    "     transforms.ToTensor(),\n",
    "    transforms.Normalize((0.5,), (0.5,))])\n",
    "\n",
    "# Create datasets for training & validation, download if necessary\n",
    "training_set = torchvision.datasets.MNIST('./data', train=True, transform=transform, download=True)\n",
    "validation_set = torchvision.datasets.MNIST('./data', train=False, transform=transform, download=True)\n",
    "\n",
    "# Create data loaders for our datasets; shuffle for training, not for validation\n",
    "training_loader = torch.utils.data.DataLoader(training_set, batch_size=batch_size, shuffle=True)\n",
    "validation_loader = torch.utils.data.DataLoader(validation_set, batch_size=batch_size, shuffle=False)\n",
    "\n",
    "print('Training set has {} instances'.format(len(training_set)))\n",
    "print('Validation set has {} instances'.format(len(validation_set)))"
   ]
  },
  {
   "cell_type": "code",
   "execution_count": 5,
   "metadata": {},
   "outputs": [],
   "source": [
    "# Optimizers specified in the torch.optim package\n",
    "optimizer = torch.optim.Adam(model.parameters(), lr=lr)\n",
    "loss_fn = torch.nn.CrossEntropyLoss()"
   ]
  },
  {
   "cell_type": "code",
   "execution_count": 6,
   "metadata": {},
   "outputs": [],
   "source": [
    "def get_accuracy_and_val_loss(model):\n",
    "    running_vloss = 0.0\n",
    "    model.eval()\n",
    "    accuracy = 0.0\n",
    "    # Disable gradient computation and reduce memory consumption.\n",
    "    with torch.no_grad():\n",
    "        total = 0\n",
    "        num_correct = 0\n",
    "        for i, vdata in enumerate(validation_loader):\n",
    "            vinputs, vlabels = vdata\n",
    "            voutputs = model(vinputs)\n",
    "            pred = torch.argmax(voutputs, dim=1)\n",
    "            num_equal = torch.sum(vlabels == pred)\n",
    "            num_correct += num_equal.item()\n",
    "            total += batch_size\n",
    "            vloss = loss_fn(voutputs, vlabels)\n",
    "            running_vloss += vloss\n",
    "            \n",
    "        accuracy = num_correct / total\n",
    "    avg_vloss = running_vloss / (i + 1)\n",
    "    wandb.log({\"acc\": accuracy, \"val_loss\": avg_vloss})\n",
    "    \n",
    "    return avg_vloss, accuracy"
   ]
  },
  {
   "cell_type": "code",
   "execution_count": 7,
   "metadata": {},
   "outputs": [],
   "source": [
    "def train_one_epoch(epoch_index):\n",
    "    running_loss = 0.\n",
    "    last_loss = 0.\n",
    "\n",
    "    for i, data in enumerate(training_loader):\n",
    "        model.train(True)\n",
    "        \n",
    "        inputs, labels = data\n",
    "\n",
    "        optimizer.zero_grad()\n",
    "\n",
    "        outputs = model(inputs)\n",
    "\n",
    "        loss = loss_fn(outputs, labels)\n",
    "        loss.backward()\n",
    "        optimizer.step()\n",
    "\n",
    "        # Gather data and report\n",
    "        running_loss += loss.item()\n",
    "        if i % 1000 == 999:\n",
    "            last_loss = running_loss / 1000 # loss per batch\n",
    "            #print('  batch {} loss: {}'.format(i + 1, last_loss))\n",
    "            running_loss = 0.\n",
    "            avg_vloss, accuracy = get_accuracy_and_val_loss(model)\n",
    "            print('  Batch: {} Validation Loss: {} Accuracy: {}'.format(i + 1, avg_vloss, accuracy))\n",
    "            \n",
    "\n",
    "    return last_loss"
   ]
  },
  {
   "cell_type": "code",
   "execution_count": 8,
   "metadata": {},
   "outputs": [
    {
     "name": "stdout",
     "output_type": "stream",
     "text": [
      "EPOCH 1:\n",
      "  Batch: 1000 Validation Loss: 1.642441749572754 Accuracy: 0.3699\n",
      "  Batch: 2000 Validation Loss: 1.1535154581069946 Accuracy: 0.5781\n",
      "  Batch: 3000 Validation Loss: 1.0149601697921753 Accuracy: 0.6344\n",
      "  Batch: 4000 Validation Loss: 0.7467290163040161 Accuracy: 0.7192\n",
      "  Batch: 5000 Validation Loss: 0.6492432951927185 Accuracy: 0.7873\n",
      "  Batch: 6000 Validation Loss: 0.5614609122276306 Accuracy: 0.8121\n",
      "  Batch: 7000 Validation Loss: 0.40694159269332886 Accuracy: 0.8748\n",
      "  Batch: 8000 Validation Loss: 0.37758365273475647 Accuracy: 0.8872\n",
      "  Batch: 9000 Validation Loss: 0.33137333393096924 Accuracy: 0.8992\n",
      "  Batch: 10000 Validation Loss: 0.39209315180778503 Accuracy: 0.8743\n",
      "  Batch: 11000 Validation Loss: 0.3198293149471283 Accuracy: 0.8964\n",
      "  Batch: 12000 Validation Loss: 0.3246166408061981 Accuracy: 0.9019\n",
      "  Batch: 13000 Validation Loss: 0.26091131567955017 Accuracy: 0.9185\n",
      "  Batch: 14000 Validation Loss: 0.25055012106895447 Accuracy: 0.9227\n",
      "  Batch: 15000 Validation Loss: 0.25025904178619385 Accuracy: 0.9238\n"
     ]
    }
   ],
   "source": [
    "# Initializing in a separate cell so we can easily add more epochs to the same run\n",
    "epoch_number = 0\n",
    "\n",
    "best_vloss = 1_000_000.\n",
    "\n",
    "for epoch in range(EPOCHS):\n",
    "    print('EPOCH {}:'.format(epoch_number + 1))\n",
    "\n",
    "    # Make sure gradient tracking is on, and do a pass over the data\n",
    "    model.train(True)\n",
    "    avg_loss = train_one_epoch(epoch_number)\n",
    "\n",
    "    epoch_number += 1"
   ]
  }
 ],
 "metadata": {
  "kernelspec": {
   "display_name": ".venv",
   "language": "python",
   "name": "python3"
  },
  "language_info": {
   "codemirror_mode": {
    "name": "ipython",
    "version": 3
   },
   "file_extension": ".py",
   "mimetype": "text/x-python",
   "name": "python",
   "nbconvert_exporter": "python",
   "pygments_lexer": "ipython3",
   "version": "3.12.2"
  }
 },
 "nbformat": 4,
 "nbformat_minor": 2
}
