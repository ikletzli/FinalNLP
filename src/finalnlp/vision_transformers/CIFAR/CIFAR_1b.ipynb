{
 "cells": [
  {
   "cell_type": "code",
   "execution_count": 1,
   "metadata": {},
   "outputs": [],
   "source": [
    "import torchvision\n",
    "from torchvision.models import VisionTransformer\n",
    "import torch\n",
    "import torchvision.transforms as transforms\n",
    "from finalnlp.replacer import replace_linears_in_pytorch_model\n",
    "from finalnlp import bitnet1\n",
    "from finalnlp import utils\n",
    "import wandb"
   ]
  },
  {
   "cell_type": "code",
   "execution_count": 2,
   "metadata": {},
   "outputs": [],
   "source": [
    "image_size=32\n",
    "patch_size=4\n",
    "num_layers=4\n",
    "num_heads=2\n",
    "hidden_dim=20\n",
    "mlp_dim=20\n",
    "num_classes=10\n",
    "batch_size=8\n",
    "lr=0.001\n",
    "EPOCHS = 3\n",
    "model = VisionTransformer(image_size=image_size, patch_size=patch_size, num_layers=num_layers, \n",
    "                          num_heads=num_heads, hidden_dim=hidden_dim, mlp_dim=mlp_dim, num_classes=num_classes)\n",
    "\n",
    "replace_linears_in_pytorch_model(model, bitnet1.BitLinear1B)"
   ]
  },
  {
   "cell_type": "code",
   "execution_count": 3,
   "metadata": {},
   "outputs": [
    {
     "name": "stderr",
     "output_type": "stream",
     "text": [
      "Failed to detect the name of this notebook, you can set it manually with the WANDB_NOTEBOOK_NAME environment variable to enable code saving.\n",
      "\u001b[34m\u001b[1mwandb\u001b[0m: Currently logged in as: \u001b[33misaackletzli\u001b[0m (\u001b[33mnlp-quantization\u001b[0m). Use \u001b[1m`wandb login --relogin`\u001b[0m to force relogin\n"
     ]
    },
    {
     "data": {
      "text/html": [
       "wandb version 0.16.6 is available!  To upgrade, please run:\n",
       " $ pip install wandb --upgrade"
      ],
      "text/plain": [
       "<IPython.core.display.HTML object>"
      ]
     },
     "metadata": {},
     "output_type": "display_data"
    },
    {
     "data": {
      "text/html": [
       "Tracking run with wandb version 0.16.5"
      ],
      "text/plain": [
       "<IPython.core.display.HTML object>"
      ]
     },
     "metadata": {},
     "output_type": "display_data"
    },
    {
     "data": {
      "text/html": [
       "Run data is saved locally in <code>c:\\Users\\isaac\\OneDrive\\Desktop\\Spring2024\\CS6340\\FinalNLP\\src\\finalnlp\\vision_transformers\\CIFAR\\wandb\\run-20240409_195851-08z8r3b2</code>"
      ],
      "text/plain": [
       "<IPython.core.display.HTML object>"
      ]
     },
     "metadata": {},
     "output_type": "display_data"
    },
    {
     "data": {
      "text/html": [
       "Syncing run <strong><a href='https://wandb.ai/nlp-quantization/CIFAR-10/runs/08z8r3b2/workspace' target=\"_blank\">bitlinear1</a></strong> to <a href='https://wandb.ai/nlp-quantization/CIFAR-10' target=\"_blank\">Weights & Biases</a> (<a href='https://wandb.me/run' target=\"_blank\">docs</a>)<br/>"
      ],
      "text/plain": [
       "<IPython.core.display.HTML object>"
      ]
     },
     "metadata": {},
     "output_type": "display_data"
    },
    {
     "data": {
      "text/html": [
       " View project at <a href='https://wandb.ai/nlp-quantization/CIFAR-10' target=\"_blank\">https://wandb.ai/nlp-quantization/CIFAR-10</a>"
      ],
      "text/plain": [
       "<IPython.core.display.HTML object>"
      ]
     },
     "metadata": {},
     "output_type": "display_data"
    },
    {
     "data": {
      "text/html": [
       " View run at <a href='https://wandb.ai/nlp-quantization/CIFAR-10/runs/08z8r3b2/workspace' target=\"_blank\">https://wandb.ai/nlp-quantization/CIFAR-10/runs/08z8r3b2/workspace</a>"
      ],
      "text/plain": [
       "<IPython.core.display.HTML object>"
      ]
     },
     "metadata": {},
     "output_type": "display_data"
    },
    {
     "data": {
      "text/html": [
       "<button onClick=\"this.nextSibling.style.display='block';this.style.display='none';\">Display W&B run</button><iframe src='https://wandb.ai/nlp-quantization/CIFAR-10/runs/08z8r3b2?jupyter=true' style='border:none;width:100%;height:420px;display:none;'></iframe>"
      ],
      "text/plain": [
       "<wandb.sdk.wandb_run.Run at 0x22f2e4869f0>"
      ]
     },
     "execution_count": 3,
     "metadata": {},
     "output_type": "execute_result"
    }
   ],
   "source": [
    "wandb.login()\n",
    "\n",
    "wandb.init(\n",
    "    # Set the project where this run will be logged\n",
    "    project=\"CIFAR-10\",\n",
    "    # We pass a run name (otherwise it’ll be randomly assigned, like sunshine-lollypop-10)\n",
    "    name=f\"bitlinear1\",\n",
    "    # Track hyperparameters and run metadata\n",
    "    config={\n",
    "    \"image_size\": image_size,\n",
    "    \"patch_size\": patch_size,\n",
    "    \"num_layers\": num_layers,\n",
    "    \"num_heads\": num_heads,\n",
    "    \"hidden_dim\": hidden_dim,\n",
    "    \"mlp_dim\": mlp_dim,\n",
    "    \"num_classes\": num_classes,\n",
    "    \"batch_size\": batch_size,\n",
    "    \"lr\": lr,\n",
    "    \"EPOCHS\": EPOCHS,\n",
    "    \"byte_count\": utils.count_bytes(model, bitnet1.BitLinear1B),\n",
    "    \"dataset\": \"CIFAR\",\n",
    "    })"
   ]
  },
  {
   "cell_type": "code",
   "execution_count": 4,
   "metadata": {},
   "outputs": [
    {
     "name": "stdout",
     "output_type": "stream",
     "text": [
      "Files already downloaded and verified\n",
      "Files already downloaded and verified\n",
      "Training set has 50000 instances\n",
      "Validation set has 10000 instances\n"
     ]
    }
   ],
   "source": [
    "transform = transforms.Compose(\n",
    "    [torchvision.transforms.Grayscale(num_output_channels=3),\n",
    "     transforms.ToTensor(),\n",
    "    transforms.Normalize((0.5,), (0.5,))])\n",
    "\n",
    "# Create datasets for training & validation, download if necessary\n",
    "training_set = torchvision.datasets.CIFAR10('./data', train=True, transform=transform, download=True)\n",
    "validation_set = torchvision.datasets.CIFAR10('./data', train=False, transform=transform, download=True)\n",
    "\n",
    "# Create data loaders for our datasets; shuffle for training, not for validation\n",
    "training_loader = torch.utils.data.DataLoader(training_set, batch_size=batch_size, shuffle=True)\n",
    "validation_loader = torch.utils.data.DataLoader(validation_set, batch_size=batch_size, shuffle=False)\n",
    "\n",
    "print('Training set has {} instances'.format(len(training_set)))\n",
    "print('Validation set has {} instances'.format(len(validation_set)))"
   ]
  },
  {
   "cell_type": "code",
   "execution_count": 5,
   "metadata": {},
   "outputs": [],
   "source": [
    "# Optimizers specified in the torch.optim package\n",
    "optimizer = torch.optim.Adam(model.parameters(), lr=lr)\n",
    "loss_fn = torch.nn.CrossEntropyLoss()"
   ]
  },
  {
   "cell_type": "code",
   "execution_count": 6,
   "metadata": {},
   "outputs": [],
   "source": [
    "def get_accuracy_and_val_loss(model):\n",
    "    running_vloss = 0.0\n",
    "    model.eval()\n",
    "    accuracy = 0.0\n",
    "    # Disable gradient computation and reduce memory consumption.\n",
    "    with torch.no_grad():\n",
    "        total = 0\n",
    "        num_correct = 0\n",
    "        for i, vdata in enumerate(validation_loader):\n",
    "            vinputs, vlabels = vdata\n",
    "            voutputs = model(vinputs)\n",
    "            pred = torch.argmax(voutputs, dim=1)\n",
    "            num_equal = torch.sum(vlabels == pred)\n",
    "            num_correct += num_equal.item()\n",
    "            total += batch_size\n",
    "            vloss = loss_fn(voutputs, vlabels)\n",
    "            running_vloss += vloss\n",
    "            \n",
    "        accuracy = num_correct / total\n",
    "    avg_vloss = running_vloss / (i + 1)\n",
    "    wandb.log({\"acc\": accuracy, \"val_loss\": avg_vloss})\n",
    "    \n",
    "    return avg_vloss, accuracy"
   ]
  },
  {
   "cell_type": "code",
   "execution_count": 7,
   "metadata": {},
   "outputs": [],
   "source": [
    "def train_one_epoch(epoch_index):\n",
    "    running_loss = 0.\n",
    "    last_loss = 0.\n",
    "\n",
    "    for i, data in enumerate(training_loader):\n",
    "        model.train(True)\n",
    "        \n",
    "        inputs, labels = data\n",
    "\n",
    "        optimizer.zero_grad()\n",
    "\n",
    "        outputs = model(inputs)\n",
    "\n",
    "        loss = loss_fn(outputs, labels)\n",
    "        loss.backward()\n",
    "        optimizer.step()\n",
    "\n",
    "        # Gather data and report\n",
    "        running_loss += loss.item()\n",
    "        if i % 1000 == 999:\n",
    "            last_loss = running_loss / 1000 # loss per batch\n",
    "            #print('  batch {} loss: {}'.format(i + 1, last_loss))\n",
    "            running_loss = 0.\n",
    "            avg_vloss, accuracy = get_accuracy_and_val_loss(model)\n",
    "            print('  Batch: {} Validation Loss: {} Accuracy: {}'.format(i + 1, avg_vloss, accuracy))\n",
    "            \n",
    "\n",
    "    return last_loss"
   ]
  },
  {
   "cell_type": "code",
   "execution_count": 8,
   "metadata": {},
   "outputs": [
    {
     "name": "stdout",
     "output_type": "stream",
     "text": [
      "EPOCH 1:\n",
      "  Batch: 1000 Validation Loss: 2.0007762908935547 Accuracy: 0.2651\n",
      "  Batch: 2000 Validation Loss: 1.922255039215088 Accuracy: 0.2723\n",
      "  Batch: 3000 Validation Loss: 2.006896734237671 Accuracy: 0.2725\n",
      "  Batch: 4000 Validation Loss: 1.8211593627929688 Accuracy: 0.3265\n",
      "  Batch: 5000 Validation Loss: 1.7793734073638916 Accuracy: 0.3401\n",
      "  Batch: 6000 Validation Loss: 1.7218997478485107 Accuracy: 0.3584\n",
      "EPOCH 2:\n",
      "  Batch: 1000 Validation Loss: 1.8207722902297974 Accuracy: 0.3278\n",
      "  Batch: 2000 Validation Loss: 1.7037771940231323 Accuracy: 0.381\n",
      "  Batch: 3000 Validation Loss: 1.690751314163208 Accuracy: 0.3976\n",
      "  Batch: 4000 Validation Loss: 1.6991019248962402 Accuracy: 0.3771\n",
      "  Batch: 5000 Validation Loss: 1.7004332542419434 Accuracy: 0.3822\n",
      "  Batch: 6000 Validation Loss: 1.6470414400100708 Accuracy: 0.3961\n",
      "EPOCH 3:\n",
      "  Batch: 1000 Validation Loss: 1.627516746520996 Accuracy: 0.4123\n",
      "  Batch: 2000 Validation Loss: 1.6650019884109497 Accuracy: 0.3892\n",
      "  Batch: 3000 Validation Loss: 1.610407829284668 Accuracy: 0.4132\n",
      "  Batch: 4000 Validation Loss: 1.5978922843933105 Accuracy: 0.4223\n",
      "  Batch: 5000 Validation Loss: 1.5967528820037842 Accuracy: 0.4225\n",
      "  Batch: 6000 Validation Loss: 1.5914092063903809 Accuracy: 0.4304\n"
     ]
    }
   ],
   "source": [
    "# Initializing in a separate cell so we can easily add more epochs to the same run\n",
    "epoch_number = 0\n",
    "\n",
    "best_vloss = 1_000_000.\n",
    "\n",
    "for epoch in range(EPOCHS):\n",
    "    print('EPOCH {}:'.format(epoch_number + 1))\n",
    "\n",
    "    # Make sure gradient tracking is on, and do a pass over the data\n",
    "    model.train(True)\n",
    "    avg_loss = train_one_epoch(epoch_number)\n",
    "\n",
    "    epoch_number += 1"
   ]
  }
 ],
 "metadata": {
  "kernelspec": {
   "display_name": ".venv",
   "language": "python",
   "name": "python3"
  },
  "language_info": {
   "codemirror_mode": {
    "name": "ipython",
    "version": 3
   },
   "file_extension": ".py",
   "mimetype": "text/x-python",
   "name": "python",
   "nbconvert_exporter": "python",
   "pygments_lexer": "ipython3",
   "version": "3.12.2"
  }
 },
 "nbformat": 4,
 "nbformat_minor": 2
}
