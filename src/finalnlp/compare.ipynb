{
 "cells": [
  {
   "cell_type": "code",
   "execution_count": 11,
   "metadata": {},
   "outputs": [
    {
     "name": "stdout",
     "output_type": "stream",
     "text": [
      "The autoreload extension is already loaded. To reload it, use:\n",
      "  %reload_ext autoreload\n"
     ]
    }
   ],
   "source": [
    "%load_ext autoreload\n",
    "from transformers import TrainingArguments, Trainer, LlamaTokenizerFast, LlamaTokenizer, LlamaModel, LlamaForCausalLM, LlamaConfig\n",
    "from transformers import DataCollatorForLanguageModeling\n",
    "import transformers\n",
    "import numpy as np\n",
    "import evaluate\n",
    "import datasets\n",
    "from replacer import replace_linears_in_hf\n",
    "from bitnet1 import BitLinear1B\n",
    "from bitnet158 import BitLinear158B"
   ]
  },
  {
   "cell_type": "code",
   "execution_count": 27,
   "metadata": {},
   "outputs": [
    {
     "data": {
      "application/vnd.jupyter.widget-view+json": {
       "model_id": "a7245b1011714b50bad77b845ce0f8f8",
       "version_major": 2,
       "version_minor": 0
      },
      "text/plain": [
       "Map (num_proc=4):   0%|          | 0/8 [00:00<?, ? examples/s]"
      ]
     },
     "metadata": {},
     "output_type": "display_data"
    },
    {
     "name": "stderr",
     "output_type": "stream",
     "text": [
      "num_proc must be <= 2. Reducing num_proc to 2 for dataset of size 2.\n"
     ]
    },
    {
     "data": {
      "application/vnd.jupyter.widget-view+json": {
       "model_id": "46793170c7d64542b61cf805c8efcbf7",
       "version_major": 2,
       "version_minor": 0
      },
      "text/plain": [
       "Map (num_proc=2):   0%|          | 0/2 [00:00<?, ? examples/s]"
      ]
     },
     "metadata": {},
     "output_type": "display_data"
    }
   ],
   "source": [
    "# tokenizer = LlamaTokenizer.from_pretrained(\"hf-internal-testing/llama-tokenizer\")\n",
    "# tokenizer.pad_token = tokenizer.eos_token\n",
    "\n",
    "# data_collator = DataCollatorForLanguageModeling(tokenizer=tokenizer, mlm=False)\n",
    "\n",
    "dataset = datasets.load_dataset(\"wikitext\", \"wikitext-2-v1\", split=\"train[:10]\")\n",
    "dataset = dataset.train_test_split(test_size=0.2)\n",
    "train_dataset = dataset[\"train\"]\n",
    "eval_dataset = dataset[\"test\"]\n",
    "\n",
    "class TokenizeWrapper:\n",
    "    def __init__(self) -> None:\n",
    "        self.tokenizer = LlamaTokenizer.from_pretrained(\"hf-internal-testing/llama-tokenizer\")\n",
    "        self.tokenizer.pad_token = self.tokenizer.eos_token\n",
    "\n",
    "    def tokenize_function(self, examples):\n",
    "        return self.tokenizer(examples[\"text\"], padding='max_length', truncation=True,)\n",
    "\n",
    "tokenize_wrapper = TokenizeWrapper()\n",
    "\n",
    "data_collator = DataCollatorForLanguageModeling(tokenizer=tokenize_wrapper.tokenizer, mlm=False)\n",
    "\n",
    "train_dataset = train_dataset.map(tokenize_wrapper.tokenize_function, batched=True, num_proc=4)\n",
    "eval_dataset = eval_dataset.map(tokenize_wrapper.tokenize_function, batched=True, num_proc=4)"
   ]
  },
  {
   "cell_type": "code",
   "execution_count": 28,
   "metadata": {},
   "outputs": [],
   "source": [
    "# configuration = LlamaConfig(\n",
    "#     intermediate_size=1024,\n",
    "#     hidden_size=1024,\n",
    "#     num_hidden_layers=4,\n",
    "#     num_attention_heads=4,\n",
    "#     max_position_embeddings=1024,\n",
    "# )\n",
    "\n",
    "configuration = LlamaConfig(\n",
    "    intermediate_size=4,\n",
    "    hidden_size=4,\n",
    "    num_hidden_layers=4,\n",
    "    num_attention_heads=4,\n",
    "    max_position_embeddings=1024,\n",
    ")\n",
    "\n",
    "model = LlamaForCausalLM(configuration)\n",
    "# model = LlamaModel(configuration)\n",
    "\n",
    "# model = replace_linears_in_hf(model, BitLinear=BitLinear158B)\n",
    "\n",
    "training_args = TrainingArguments(output_dir=\"test_trainer\", evaluation_strategy=\"epoch\")\n",
    "\n",
    "metric = evaluate.load(\"perplexity\", module_type=\"metric\")\n",
    "\n",
    "def compute_metrics(eval_pred: transformers.EvalPrediction):\n",
    "    print(\"eval_pred\", eval_pred)\n",
    "    logits, labels = eval_pred\n",
    "    predictions = np.argmax(logits, axis=-1)\n",
    "    return metric.compute(predictions=predictions)"
   ]
  },
  {
   "cell_type": "code",
   "execution_count": 29,
   "metadata": {},
   "outputs": [
    {
     "name": "stderr",
     "output_type": "stream",
     "text": [
      "c:\\Users\\isaac\\OneDrive\\Desktop\\Spring2024\\CS6340\\FinalNLP\\.venv\\Lib\\site-packages\\accelerate\\accelerator.py:432: FutureWarning: Passing the following arguments to `Accelerator` is deprecated and will be removed in version 1.0 of Accelerate: dict_keys(['dispatch_batches', 'split_batches', 'even_batches', 'use_seedable_sampler']). Please pass an `accelerate.DataLoaderConfiguration` instead: \n",
      "dataloader_config = DataLoaderConfiguration(dispatch_batches=None, split_batches=False, even_batches=True, use_seedable_sampler=True)\n",
      "  warnings.warn(\n"
     ]
    }
   ],
   "source": [
    "\n",
    "trainer = Trainer(\n",
    "    model=model,\n",
    "    args=training_args,\n",
    "    compute_metrics=compute_metrics,\n",
    "    train_dataset=train_dataset,\n",
    "    eval_dataset=eval_dataset,\n",
    "    data_collator=data_collator,\n",
    ")"
   ]
  },
  {
   "cell_type": "code",
   "execution_count": 31,
   "metadata": {},
   "outputs": [
    {
     "data": {
      "application/vnd.jupyter.widget-view+json": {
       "model_id": "83d87cfa63bd4407ac317f9cd18ac9a1",
       "version_major": 2,
       "version_minor": 0
      },
      "text/plain": [
       "  0%|          | 0/3 [00:00<?, ?it/s]"
      ]
     },
     "metadata": {},
     "output_type": "display_data"
    },
    {
     "name": "stdout",
     "output_type": "stream",
     "text": [
      "eval_pred <transformers.trainer_utils.EvalPrediction object at 0x000001DC34926630>\n"
     ]
    }
   ],
   "source": [
    "trainer.train()"
   ]
  }
 ],
 "metadata": {
  "kernelspec": {
   "display_name": ".venv",
   "language": "python",
   "name": "python3"
  },
  "language_info": {
   "codemirror_mode": {
    "name": "ipython",
    "version": 3
   },
   "file_extension": ".py",
   "mimetype": "text/x-python",
   "name": "python",
   "nbconvert_exporter": "python",
   "pygments_lexer": "ipython3",
   "version": "3.12.2"
  }
 },
 "nbformat": 4,
 "nbformat_minor": 2
}
